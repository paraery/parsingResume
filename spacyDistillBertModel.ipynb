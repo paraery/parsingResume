{
  "nbformat": 4,
  "nbformat_minor": 0,
  "metadata": {
    "colab": {
      "provenance": [],
      "machine_shape": "hm",
      "mount_file_id": "15oMgvCz79vrWESxhC1tqYjy8nHUMtdQC",
      "authorship_tag": "ABX9TyMMFis5d22pSZfPlSqMRLlf",
      "include_colab_link": true
    },
    "kernelspec": {
      "name": "python3",
      "display_name": "Python 3"
    },
    "language_info": {
      "name": "python"
    },
    "accelerator": "GPU",
    "gpuClass": "premium"
  },
  "cells": [
    {
      "cell_type": "markdown",
      "metadata": {
        "id": "view-in-github",
        "colab_type": "text"
      },
      "source": [
        "<a href=\"https://colab.research.google.com/github/paraery/parsingResume/blob/main/spacyDistillBertModel.ipynb\" target=\"_parent\"><img src=\"https://colab.research.google.com/assets/colab-badge.svg\" alt=\"Open In Colab\"/></a>"
      ]
    },
    {
      "cell_type": "code",
      "execution_count": 1,
      "metadata": {
        "id": "zgF0EFMIbEax"
      },
      "outputs": [],
      "source": [
        "import re\n",
        "def get_tokens_with_entities(raw_text: str):\n",
        "    # split the text by spaces only if the space does not occur between square brackets\n",
        "    # we do not want to split \"multi-word\" entity value yet\n",
        "    \n",
        "    raw_tokens = re.split(r\"\\s(?![^\\[]*\\])\", raw_text)\n",
        "\n",
        "    # a regex for matching the annotation according to our notation [entity_value](entity_name)\n",
        "    entity_value_pattern = r\"\\[(?P<value>.+?)\\]\\((?P<entity>.+?)\\)\"\n",
        "    entity_value_pattern_compiled = re.compile(entity_value_pattern, flags=re.I|re.M)\n",
        "\n",
        "    tokens_with_entities = []\n",
        "    lstEnt=[]\n",
        "    txt = raw_text\n",
        "    for raw_token in raw_tokens:\n",
        "        match = entity_value_pattern_compiled.match(raw_token)\n",
        "        if match:\n",
        "            raw_entity_name, raw_entity_value = match.group(\"entity\"), match.group(\"value\")\n",
        "            \n",
        "            # we prefix the name of entity differently\n",
        "            # B- indicates beginning of an entity\n",
        "            # I- indicates the token is not a new entity itself but rather a part of existing one\n",
        "            #txt = raw_text[raw_text.find(str(raw_entity_value))-1 : ]\n",
        "            txt = raw_text.replace(raw_text[int(raw_text.find(raw_entity_value))-1],'',1)\n",
        "            txt = txt.replace('](PERSON)','')\n",
        "            #print(txt)\n",
        "            lstdata = ()\n",
        "            entity_name = f\"{raw_entity_name}\"\n",
        "            entName = createSubEntity(txt.find(raw_entity_value), txt.find(raw_entity_value) + len(raw_entity_value), entity_name)\n",
        "            lstEnt.append(entName)\n",
        "                #tokens_with_entities.append((raw_entity_token, entity_name))\n",
        "    d={\"entities\": lstEnt}\n",
        "            #print(lstEnt)\n",
        "    lstdata=(txt,d)\n",
        "    tokens_with_entities.append(lstdata)\n",
        "    return lstdata\n",
        "def createSubEntity(start,end,tag):\n",
        "    s = (int(start),int(end),tag)\n",
        "    return s"
      ]
    },
    {
      "cell_type": "code",
      "source": [
        "import pandas as pd\n",
        "df = pd.read_csv('drive/MyDrive/textfortraining8.csv')\n",
        "lstTxt = df['text'].values.tolist()"
      ],
      "metadata": {
        "id": "Q90OjoG6bPPt"
      },
      "execution_count": 17,
      "outputs": []
    },
    {
      "cell_type": "code",
      "source": [
        "#train_data=[]\n",
        "for a in lstTxt:\n",
        "    train_data.append(get_tokens_with_entities(a))"
      ],
      "metadata": {
        "id": "0SVlamkkbTYz"
      },
      "execution_count": 18,
      "outputs": []
    },
    {
      "cell_type": "code",
      "source": [
        "train=[]\n",
        "train=train_data"
      ],
      "metadata": {
        "id": "RTMPfWL4bVnq"
      },
      "execution_count": 19,
      "outputs": []
    },
    {
      "cell_type": "code",
      "source": [
        "import pandas as pd\n",
        "df = pd.read_csv('drive/MyDrive/testData.csv')\n",
        "lstTest = df['text'].values.tolist()"
      ],
      "metadata": {
        "id": "Q55wkJDyb5hQ"
      },
      "execution_count": 20,
      "outputs": []
    },
    {
      "cell_type": "code",
      "source": [
        "test=[]\n",
        "for a in lstTest:\n",
        "    test.append(get_tokens_with_entities(a))"
      ],
      "metadata": {
        "id": "8lbz2e_AcB7B"
      },
      "execution_count": 21,
      "outputs": []
    },
    {
      "cell_type": "code",
      "source": [
        "!pip install -U spacy"
      ],
      "metadata": {
        "colab": {
          "base_uri": "https://localhost:8080/"
        },
        "id": "Z3pMJ6alcD8O",
        "outputId": "68f6ca24-ca5b-4212-c33f-1d3bbe96429e"
      },
      "execution_count": 22,
      "outputs": [
        {
          "output_type": "stream",
          "name": "stdout",
          "text": [
            "Looking in indexes: https://pypi.org/simple, https://us-python.pkg.dev/colab-wheels/public/simple/\n",
            "Requirement already satisfied: spacy in /usr/local/lib/python3.8/dist-packages (3.4.4)\n",
            "Collecting spacy\n",
            "  Downloading spacy-3.5.0-cp38-cp38-manylinux_2_17_x86_64.manylinux2014_x86_64.whl (6.7 MB)\n",
            "\u001b[2K     \u001b[90m━━━━━━━━━━━━━━━━━━━━━━━━━━━━━━━━━━━━━━━━\u001b[0m \u001b[32m6.7/6.7 MB\u001b[0m \u001b[31m57.1 MB/s\u001b[0m eta \u001b[36m0:00:00\u001b[0m\n",
            "\u001b[?25hRequirement already satisfied: thinc<8.2.0,>=8.1.0 in /usr/local/lib/python3.8/dist-packages (from spacy) (8.1.7)\n",
            "Requirement already satisfied: smart-open<7.0.0,>=5.2.1 in /usr/local/lib/python3.8/dist-packages (from spacy) (6.3.0)\n",
            "Requirement already satisfied: requests<3.0.0,>=2.13.0 in /usr/local/lib/python3.8/dist-packages (from spacy) (2.25.1)\n",
            "Requirement already satisfied: spacy-legacy<3.1.0,>=3.0.11 in /usr/local/lib/python3.8/dist-packages (from spacy) (3.0.12)\n",
            "Requirement already satisfied: srsly<3.0.0,>=2.4.3 in /usr/local/lib/python3.8/dist-packages (from spacy) (2.4.6)\n",
            "Requirement already satisfied: pydantic!=1.8,!=1.8.1,<1.11.0,>=1.7.4 in /usr/local/lib/python3.8/dist-packages (from spacy) (1.10.5)\n",
            "Requirement already satisfied: preshed<3.1.0,>=3.0.2 in /usr/local/lib/python3.8/dist-packages (from spacy) (3.0.8)\n",
            "Requirement already satisfied: setuptools in /usr/local/lib/python3.8/dist-packages (from spacy) (57.4.0)\n",
            "Requirement already satisfied: tqdm<5.0.0,>=4.38.0 in /usr/local/lib/python3.8/dist-packages (from spacy) (4.64.1)\n",
            "Requirement already satisfied: murmurhash<1.1.0,>=0.28.0 in /usr/local/lib/python3.8/dist-packages (from spacy) (1.0.9)\n",
            "Requirement already satisfied: spacy-loggers<2.0.0,>=1.0.0 in /usr/local/lib/python3.8/dist-packages (from spacy) (1.0.4)\n",
            "Requirement already satisfied: langcodes<4.0.0,>=3.2.0 in /usr/local/lib/python3.8/dist-packages (from spacy) (3.3.0)\n",
            "Requirement already satisfied: catalogue<2.1.0,>=2.0.6 in /usr/local/lib/python3.8/dist-packages (from spacy) (2.0.8)\n",
            "Requirement already satisfied: wasabi<1.2.0,>=0.9.1 in /usr/local/lib/python3.8/dist-packages (from spacy) (0.10.1)\n",
            "Requirement already satisfied: pathy>=0.10.0 in /usr/local/lib/python3.8/dist-packages (from spacy) (0.10.1)\n",
            "Requirement already satisfied: typer<0.8.0,>=0.3.0 in /usr/local/lib/python3.8/dist-packages (from spacy) (0.7.0)\n",
            "Requirement already satisfied: numpy>=1.15.0 in /usr/local/lib/python3.8/dist-packages (from spacy) (1.22.4)\n",
            "Requirement already satisfied: cymem<2.1.0,>=2.0.2 in /usr/local/lib/python3.8/dist-packages (from spacy) (2.0.7)\n",
            "Requirement already satisfied: jinja2 in /usr/local/lib/python3.8/dist-packages (from spacy) (3.1.2)\n",
            "Requirement already satisfied: packaging>=20.0 in /usr/local/lib/python3.8/dist-packages (from spacy) (23.0)\n",
            "Requirement already satisfied: typing-extensions>=4.2.0 in /usr/local/lib/python3.8/dist-packages (from pydantic!=1.8,!=1.8.1,<1.11.0,>=1.7.4->spacy) (4.5.0)\n",
            "Requirement already satisfied: chardet<5,>=3.0.2 in /usr/local/lib/python3.8/dist-packages (from requests<3.0.0,>=2.13.0->spacy) (4.0.0)\n",
            "Requirement already satisfied: urllib3<1.27,>=1.21.1 in /usr/local/lib/python3.8/dist-packages (from requests<3.0.0,>=2.13.0->spacy) (1.26.14)\n",
            "Requirement already satisfied: certifi>=2017.4.17 in /usr/local/lib/python3.8/dist-packages (from requests<3.0.0,>=2.13.0->spacy) (2022.12.7)\n",
            "Requirement already satisfied: idna<3,>=2.5 in /usr/local/lib/python3.8/dist-packages (from requests<3.0.0,>=2.13.0->spacy) (2.10)\n",
            "Requirement already satisfied: confection<1.0.0,>=0.0.1 in /usr/local/lib/python3.8/dist-packages (from thinc<8.2.0,>=8.1.0->spacy) (0.0.4)\n",
            "Requirement already satisfied: blis<0.8.0,>=0.7.8 in /usr/local/lib/python3.8/dist-packages (from thinc<8.2.0,>=8.1.0->spacy) (0.7.9)\n",
            "Requirement already satisfied: click<9.0.0,>=7.1.1 in /usr/local/lib/python3.8/dist-packages (from typer<0.8.0,>=0.3.0->spacy) (8.1.3)\n",
            "Requirement already satisfied: MarkupSafe>=2.0 in /usr/local/lib/python3.8/dist-packages (from jinja2->spacy) (2.1.2)\n",
            "Installing collected packages: spacy\n",
            "  Attempting uninstall: spacy\n",
            "    Found existing installation: spacy 3.4.4\n",
            "    Uninstalling spacy-3.4.4:\n",
            "      Successfully uninstalled spacy-3.4.4\n",
            "\u001b[31mERROR: pip's dependency resolver does not currently take into account all the packages that are installed. This behaviour is the source of the following dependency conflicts.\n",
            "en-core-web-sm 3.4.1 requires spacy<3.5.0,>=3.4.0, but you have spacy 3.5.0 which is incompatible.\u001b[0m\u001b[31m\n",
            "\u001b[0mSuccessfully installed spacy-3.5.0\n"
          ]
        }
      ]
    },
    {
      "cell_type": "code",
      "source": [
        "!pip install spacy_transformers"
      ],
      "metadata": {
        "colab": {
          "base_uri": "https://localhost:8080/"
        },
        "id": "_32_QqzOcKXj",
        "outputId": "b55d1d92-9d38-4719-fcda-a20f5a5f1687"
      },
      "execution_count": 23,
      "outputs": [
        {
          "output_type": "stream",
          "name": "stdout",
          "text": [
            "Looking in indexes: https://pypi.org/simple, https://us-python.pkg.dev/colab-wheels/public/simple/\n",
            "Collecting spacy_transformers\n",
            "  Downloading spacy_transformers-1.2.2-cp38-cp38-manylinux_2_17_x86_64.manylinux2014_x86_64.whl (194 kB)\n",
            "\u001b[2K     \u001b[90m━━━━━━━━━━━━━━━━━━━━━━━━━━━━━━━━━━━━━━━\u001b[0m \u001b[32m194.6/194.6 KB\u001b[0m \u001b[31m5.2 MB/s\u001b[0m eta \u001b[36m0:00:00\u001b[0m\n",
            "\u001b[?25hCollecting spacy-alignments<1.0.0,>=0.7.2\n",
            "  Downloading spacy_alignments-0.9.0-cp38-cp38-manylinux_2_17_x86_64.manylinux2014_x86_64.whl (1.2 MB)\n",
            "\u001b[2K     \u001b[90m━━━━━━━━━━━━━━━━━━━━━━━━━━━━━━━━━━━━━━━━\u001b[0m \u001b[32m1.2/1.2 MB\u001b[0m \u001b[31m33.1 MB/s\u001b[0m eta \u001b[36m0:00:00\u001b[0m\n",
            "\u001b[?25hRequirement already satisfied: srsly<3.0.0,>=2.4.0 in /usr/local/lib/python3.8/dist-packages (from spacy_transformers) (2.4.6)\n",
            "Collecting transformers<4.27.0,>=3.4.0\n",
            "  Downloading transformers-4.26.1-py3-none-any.whl (6.3 MB)\n",
            "\u001b[2K     \u001b[90m━━━━━━━━━━━━━━━━━━━━━━━━━━━━━━━━━━━━━━━━\u001b[0m \u001b[32m6.3/6.3 MB\u001b[0m \u001b[31m97.1 MB/s\u001b[0m eta \u001b[36m0:00:00\u001b[0m\n",
            "\u001b[?25hRequirement already satisfied: torch>=1.8.0 in /usr/local/lib/python3.8/dist-packages (from spacy_transformers) (1.13.1+cu116)\n",
            "Requirement already satisfied: numpy>=1.15.0 in /usr/local/lib/python3.8/dist-packages (from spacy_transformers) (1.22.4)\n",
            "Requirement already satisfied: spacy<4.0.0,>=3.5.0 in /usr/local/lib/python3.8/dist-packages (from spacy_transformers) (3.5.0)\n",
            "Requirement already satisfied: pydantic!=1.8,!=1.8.1,<1.11.0,>=1.7.4 in /usr/local/lib/python3.8/dist-packages (from spacy<4.0.0,>=3.5.0->spacy_transformers) (1.10.5)\n",
            "Requirement already satisfied: packaging>=20.0 in /usr/local/lib/python3.8/dist-packages (from spacy<4.0.0,>=3.5.0->spacy_transformers) (23.0)\n",
            "Requirement already satisfied: spacy-loggers<2.0.0,>=1.0.0 in /usr/local/lib/python3.8/dist-packages (from spacy<4.0.0,>=3.5.0->spacy_transformers) (1.0.4)\n",
            "Requirement already satisfied: murmurhash<1.1.0,>=0.28.0 in /usr/local/lib/python3.8/dist-packages (from spacy<4.0.0,>=3.5.0->spacy_transformers) (1.0.9)\n",
            "Requirement already satisfied: smart-open<7.0.0,>=5.2.1 in /usr/local/lib/python3.8/dist-packages (from spacy<4.0.0,>=3.5.0->spacy_transformers) (6.3.0)\n",
            "Requirement already satisfied: preshed<3.1.0,>=3.0.2 in /usr/local/lib/python3.8/dist-packages (from spacy<4.0.0,>=3.5.0->spacy_transformers) (3.0.8)\n",
            "Requirement already satisfied: spacy-legacy<3.1.0,>=3.0.11 in /usr/local/lib/python3.8/dist-packages (from spacy<4.0.0,>=3.5.0->spacy_transformers) (3.0.12)\n",
            "Requirement already satisfied: langcodes<4.0.0,>=3.2.0 in /usr/local/lib/python3.8/dist-packages (from spacy<4.0.0,>=3.5.0->spacy_transformers) (3.3.0)\n",
            "Requirement already satisfied: wasabi<1.2.0,>=0.9.1 in /usr/local/lib/python3.8/dist-packages (from spacy<4.0.0,>=3.5.0->spacy_transformers) (0.10.1)\n",
            "Requirement already satisfied: typer<0.8.0,>=0.3.0 in /usr/local/lib/python3.8/dist-packages (from spacy<4.0.0,>=3.5.0->spacy_transformers) (0.7.0)\n",
            "Requirement already satisfied: jinja2 in /usr/local/lib/python3.8/dist-packages (from spacy<4.0.0,>=3.5.0->spacy_transformers) (3.1.2)\n",
            "Requirement already satisfied: requests<3.0.0,>=2.13.0 in /usr/local/lib/python3.8/dist-packages (from spacy<4.0.0,>=3.5.0->spacy_transformers) (2.25.1)\n",
            "Requirement already satisfied: tqdm<5.0.0,>=4.38.0 in /usr/local/lib/python3.8/dist-packages (from spacy<4.0.0,>=3.5.0->spacy_transformers) (4.64.1)\n",
            "Requirement already satisfied: catalogue<2.1.0,>=2.0.6 in /usr/local/lib/python3.8/dist-packages (from spacy<4.0.0,>=3.5.0->spacy_transformers) (2.0.8)\n",
            "Requirement already satisfied: cymem<2.1.0,>=2.0.2 in /usr/local/lib/python3.8/dist-packages (from spacy<4.0.0,>=3.5.0->spacy_transformers) (2.0.7)\n",
            "Requirement already satisfied: thinc<8.2.0,>=8.1.0 in /usr/local/lib/python3.8/dist-packages (from spacy<4.0.0,>=3.5.0->spacy_transformers) (8.1.7)\n",
            "Requirement already satisfied: setuptools in /usr/local/lib/python3.8/dist-packages (from spacy<4.0.0,>=3.5.0->spacy_transformers) (57.4.0)\n",
            "Requirement already satisfied: pathy>=0.10.0 in /usr/local/lib/python3.8/dist-packages (from spacy<4.0.0,>=3.5.0->spacy_transformers) (0.10.1)\n",
            "Requirement already satisfied: typing-extensions in /usr/local/lib/python3.8/dist-packages (from torch>=1.8.0->spacy_transformers) (4.5.0)\n",
            "Collecting huggingface-hub<1.0,>=0.11.0\n",
            "  Downloading huggingface_hub-0.12.1-py3-none-any.whl (190 kB)\n",
            "\u001b[2K     \u001b[90m━━━━━━━━━━━━━━━━━━━━━━━━━━━━━━━━━━━━━━\u001b[0m \u001b[32m190.3/190.3 KB\u001b[0m \u001b[31m23.7 MB/s\u001b[0m eta \u001b[36m0:00:00\u001b[0m\n",
            "\u001b[?25hRequirement already satisfied: regex!=2019.12.17 in /usr/local/lib/python3.8/dist-packages (from transformers<4.27.0,>=3.4.0->spacy_transformers) (2022.6.2)\n",
            "Requirement already satisfied: filelock in /usr/local/lib/python3.8/dist-packages (from transformers<4.27.0,>=3.4.0->spacy_transformers) (3.9.0)\n",
            "Collecting tokenizers!=0.11.3,<0.14,>=0.11.1\n",
            "  Downloading tokenizers-0.13.2-cp38-cp38-manylinux_2_17_x86_64.manylinux2014_x86_64.whl (7.6 MB)\n",
            "\u001b[2K     \u001b[90m━━━━━━━━━━━━━━━━━━━━━━━━━━━━━━━━━━━━━━━━\u001b[0m \u001b[32m7.6/7.6 MB\u001b[0m \u001b[31m105.2 MB/s\u001b[0m eta \u001b[36m0:00:00\u001b[0m\n",
            "\u001b[?25hRequirement already satisfied: pyyaml>=5.1 in /usr/local/lib/python3.8/dist-packages (from transformers<4.27.0,>=3.4.0->spacy_transformers) (6.0)\n",
            "Requirement already satisfied: urllib3<1.27,>=1.21.1 in /usr/local/lib/python3.8/dist-packages (from requests<3.0.0,>=2.13.0->spacy<4.0.0,>=3.5.0->spacy_transformers) (1.26.14)\n",
            "Requirement already satisfied: chardet<5,>=3.0.2 in /usr/local/lib/python3.8/dist-packages (from requests<3.0.0,>=2.13.0->spacy<4.0.0,>=3.5.0->spacy_transformers) (4.0.0)\n",
            "Requirement already satisfied: certifi>=2017.4.17 in /usr/local/lib/python3.8/dist-packages (from requests<3.0.0,>=2.13.0->spacy<4.0.0,>=3.5.0->spacy_transformers) (2022.12.7)\n",
            "Requirement already satisfied: idna<3,>=2.5 in /usr/local/lib/python3.8/dist-packages (from requests<3.0.0,>=2.13.0->spacy<4.0.0,>=3.5.0->spacy_transformers) (2.10)\n",
            "Requirement already satisfied: blis<0.8.0,>=0.7.8 in /usr/local/lib/python3.8/dist-packages (from thinc<8.2.0,>=8.1.0->spacy<4.0.0,>=3.5.0->spacy_transformers) (0.7.9)\n",
            "Requirement already satisfied: confection<1.0.0,>=0.0.1 in /usr/local/lib/python3.8/dist-packages (from thinc<8.2.0,>=8.1.0->spacy<4.0.0,>=3.5.0->spacy_transformers) (0.0.4)\n",
            "Requirement already satisfied: click<9.0.0,>=7.1.1 in /usr/local/lib/python3.8/dist-packages (from typer<0.8.0,>=0.3.0->spacy<4.0.0,>=3.5.0->spacy_transformers) (8.1.3)\n",
            "Requirement already satisfied: MarkupSafe>=2.0 in /usr/local/lib/python3.8/dist-packages (from jinja2->spacy<4.0.0,>=3.5.0->spacy_transformers) (2.1.2)\n",
            "Installing collected packages: tokenizers, spacy-alignments, huggingface-hub, transformers, spacy_transformers\n",
            "Successfully installed huggingface-hub-0.12.1 spacy-alignments-0.9.0 spacy_transformers-1.2.2 tokenizers-0.13.2 transformers-4.26.1\n"
          ]
        }
      ]
    },
    {
      "cell_type": "code",
      "source": [
        "import spacy\n",
        "from spacy.tokens import DocBin\n",
        "from tqdm import tqdm"
      ],
      "metadata": {
        "id": "bEdmgKMKcRQ7"
      },
      "execution_count": 24,
      "outputs": []
    },
    {
      "cell_type": "code",
      "source": [
        "import locale\n",
        "def getpreferredencoding(do_setlocale = True):\n",
        "    return \"UTF-8\"\n",
        "locale.getpreferredencoding = getpreferredencoding"
      ],
      "metadata": {
        "id": "_amEtvokca6h"
      },
      "execution_count": 25,
      "outputs": []
    },
    {
      "cell_type": "code",
      "source": [
        "!python -m spacy init fill-config /content/drive/MyDrive/Spacy/base_config.cfg /content/drive/MyDrive/Spacy/config.cfg"
      ],
      "metadata": {
        "colab": {
          "base_uri": "https://localhost:8080/"
        },
        "id": "irHQTIgKcfEe",
        "outputId": "f90604d8-749b-4bd6-9095-32169871b493"
      },
      "execution_count": 26,
      "outputs": [
        {
          "output_type": "stream",
          "name": "stdout",
          "text": [
            "2023-03-04 11:47:03.344387: W tensorflow/compiler/xla/stream_executor/platform/default/dso_loader.cc:64] Could not load dynamic library 'libnvinfer.so.7'; dlerror: libnvinfer.so.7: cannot open shared object file: No such file or directory; LD_LIBRARY_PATH: /usr/lib64-nvidia\n",
            "2023-03-04 11:47:03.344480: W tensorflow/compiler/xla/stream_executor/platform/default/dso_loader.cc:64] Could not load dynamic library 'libnvinfer_plugin.so.7'; dlerror: libnvinfer_plugin.so.7: cannot open shared object file: No such file or directory; LD_LIBRARY_PATH: /usr/lib64-nvidia\n",
            "2023-03-04 11:47:03.344497: W tensorflow/compiler/tf2tensorrt/utils/py_utils.cc:38] TF-TRT Warning: Cannot dlopen some TensorRT libraries. If you would like to use Nvidia GPU with TensorRT, please make sure the missing libraries mentioned above are installed properly.\n",
            "\u001b[38;5;2m✔ Auto-filled config with all values\u001b[0m\n",
            "\u001b[38;5;2m✔ Saved config\u001b[0m\n",
            "/content/drive/MyDrive/Spacy/config.cfg\n",
            "You can now add your data and train your pipeline:\n",
            "python -m spacy train config.cfg --paths.train ./train.spacy --paths.dev ./dev.spacy\n"
          ]
        }
      ]
    },
    {
      "cell_type": "code",
      "source": [
        "def get_spacy_doc(file,data):\n",
        "  nlp = spacy.blank(\"en\")\n",
        "  db = DocBin()\n",
        "  for text, annot in tqdm(data):\n",
        "    doc = nlp.make_doc(text)\n",
        "    annot = annot['entities']\n",
        "    ents = []\n",
        "    entity_indices = []\n",
        "    for start, end, label in annot:\n",
        "      skip_entity = False\n",
        "      for idx in range(start,end):\n",
        "        if idx in entity_indices:\n",
        "          skip_entity = True\n",
        "          break\n",
        "      if skip_entity==True:\n",
        "        continue\n",
        "      entity_indices = entity_indices+list(range(start,end))\n",
        "\n",
        "      try:\n",
        "        span = doc.char_span(start, end, label=label, alignment_mode=\"contract\")\n",
        "      except:\n",
        "        continue\n",
        "      if span is None:\n",
        "        err_data = str([start,end])+\" \"+str(text)+\"\\n\"\n",
        "        file.write(err_data)\n",
        "      else:\n",
        "        ents.append(span)\n",
        "      \n",
        "      doc.ents = ents\n",
        "      db.add(doc)\n",
        "  return db"
      ],
      "metadata": {
        "id": "iBkVfZWvc6-W"
      },
      "execution_count": 27,
      "outputs": []
    },
    {
      "cell_type": "code",
      "source": [
        "file = open('drive/MyDrive/Spacy/error.txt','w')\n",
        "db = get_spacy_doc(file,train)\n",
        "db.to_disk('train_data.spacy')\n",
        "\n",
        "db = get_spacy_doc(file,test)\n",
        "db.to_disk('test_data.spacy')\n",
        "\n",
        "file.close()"
      ],
      "metadata": {
        "colab": {
          "base_uri": "https://localhost:8080/"
        },
        "id": "52YZy2uydCtN",
        "outputId": "73b807aa-cbfc-4741-9cc1-465011dcd867"
      },
      "execution_count": 28,
      "outputs": [
        {
          "output_type": "stream",
          "name": "stderr",
          "text": [
            "100%|██████████| 620/620 [00:02<00:00, 289.70it/s]\n",
            "100%|██████████| 87/87 [00:00<00:00, 164.68it/s]\n"
          ]
        }
      ]
    },
    {
      "cell_type": "code",
      "source": [
        "!python -m spacy train /content/drive/MyDrive/Spacy/config.cfg --output ./outputSpacyDistillBert --paths.train ./train_data.spacy --paths.dev ./test_data.spacy --gpu-id 0"
      ],
      "metadata": {
        "colab": {
          "base_uri": "https://localhost:8080/"
        },
        "id": "5QoKNoxQdIrg",
        "outputId": "af3c3739-edc3-4088-a655-8cef77c19acd"
      },
      "execution_count": 29,
      "outputs": [
        {
          "output_type": "stream",
          "name": "stdout",
          "text": [
            "2023-03-04 11:49:42.823756: W tensorflow/compiler/xla/stream_executor/platform/default/dso_loader.cc:64] Could not load dynamic library 'libnvinfer.so.7'; dlerror: libnvinfer.so.7: cannot open shared object file: No such file or directory; LD_LIBRARY_PATH: /usr/lib64-nvidia\n",
            "2023-03-04 11:49:42.823859: W tensorflow/compiler/xla/stream_executor/platform/default/dso_loader.cc:64] Could not load dynamic library 'libnvinfer_plugin.so.7'; dlerror: libnvinfer_plugin.so.7: cannot open shared object file: No such file or directory; LD_LIBRARY_PATH: /usr/lib64-nvidia\n",
            "2023-03-04 11:49:42.823878: W tensorflow/compiler/tf2tensorrt/utils/py_utils.cc:38] TF-TRT Warning: Cannot dlopen some TensorRT libraries. If you would like to use Nvidia GPU with TensorRT, please make sure the missing libraries mentioned above are installed properly.\n",
            "\u001b[38;5;2m✔ Created output directory: outputSpacyDistillBert\u001b[0m\n",
            "\u001b[38;5;4mℹ Saving to output directory: outputSpacyDistillBert\u001b[0m\n",
            "\u001b[38;5;4mℹ Using GPU: 0\u001b[0m\n",
            "\u001b[1m\n",
            "=========================== Initializing pipeline ===========================\u001b[0m\n",
            "[2023-03-04 11:49:51,596] [INFO] Set up nlp object from config\n",
            "[2023-03-04 11:49:51,607] [INFO] Pipeline: ['transformer', 'ner']\n",
            "[2023-03-04 11:49:51,611] [INFO] Created vocabulary\n",
            "[2023-03-04 11:49:51,612] [INFO] Finished initializing nlp object\n",
            "Downloading (…)okenizer_config.json: 100% 28.0/28.0 [00:00<00:00, 4.59kB/s]\n",
            "Downloading (…)lve/main/config.json: 100% 483/483 [00:00<00:00, 214kB/s]\n",
            "Downloading (…)solve/main/vocab.txt: 100% 232k/232k [00:00<00:00, 2.60MB/s]\n",
            "Downloading (…)/main/tokenizer.json: 100% 466k/466k [00:00<00:00, 3.93MB/s]\n",
            "Downloading (…)\"pytorch_model.bin\";: 100% 268M/268M [00:01<00:00, 203MB/s]\n",
            "Some weights of the model checkpoint at distilbert-base-uncased were not used when initializing DistilBertModel: ['vocab_layer_norm.bias', 'vocab_transform.weight', 'vocab_projector.bias', 'vocab_projector.weight', 'vocab_transform.bias', 'vocab_layer_norm.weight']\n",
            "- This IS expected if you are initializing DistilBertModel from the checkpoint of a model trained on another task or with another architecture (e.g. initializing a BertForSequenceClassification model from a BertForPreTraining model).\n",
            "- This IS NOT expected if you are initializing DistilBertModel from the checkpoint of a model that you expect to be exactly identical (initializing a BertForSequenceClassification model from a BertForSequenceClassification model).\n",
            "[2023-03-04 11:50:25,226] [INFO] Initialized pipeline components: ['transformer', 'ner']\n",
            "\u001b[38;5;2m✔ Initialized pipeline\u001b[0m\n",
            "\u001b[1m\n",
            "============================= Training pipeline =============================\u001b[0m\n",
            "\u001b[38;5;4mℹ Pipeline: ['transformer', 'ner']\u001b[0m\n",
            "\u001b[38;5;4mℹ Initial learn rate: 0.0\u001b[0m\n",
            "E    #       LOSS TRANS...  LOSS NER  ENTS_F  ENTS_P  ENTS_R  SCORE \n",
            "---  ------  -------------  --------  ------  ------  ------  ------\n",
            "Token indices sequence length is longer than the specified maximum sequence length for this model (584 > 512). Running this sequence through the model will result in indexing errors\n",
            "  0       0       15191.83    538.40    0.00    0.00    0.00    0.00\n",
            "  1     200     1584432.05  158202.03    0.00    0.00    0.00    0.00\n",
            "  2     400      212041.88  108770.46    0.00    0.00    0.00    0.00\n",
            "  3     600        3506.77  21677.35    0.00    0.00    0.00    0.00\n",
            "  4     800        3936.72  23157.49    0.00    0.00    0.00    0.00\n",
            "  6    1000        3607.99  21766.78    0.00    0.00    0.00    0.00\n",
            "  7    1200        3634.75  22559.89    0.00    0.00    0.00    0.00\n",
            "  8    1400        3541.36  21584.64    4.46    3.52    6.10    0.04\n",
            "  9    1600        3610.38  22305.15    7.89    6.16   10.98    0.08\n",
            " 10    1800        3451.11  21879.93   17.50   13.29   25.61    0.17\n",
            " 12    2000        3188.12  20480.76   22.66   16.67   35.37    0.23\n",
            " 13    2200        2975.07  21089.79   21.77   16.27   32.93    0.22\n",
            " 14    2400        3097.26  20644.40   30.37   21.81   50.00    0.30\n",
            " 15    2600        2989.44  21339.39   26.72   19.44   42.68    0.27\n",
            " 16    2800        2714.13  19844.37   33.94   24.10   57.32    0.34\n",
            " 18    3000        2674.61  19909.24   33.70   24.08   56.10    0.34\n",
            " 19    3200        2840.15  21096.13   32.35   23.16   53.66    0.32\n",
            " 20    3400        2390.76  18862.69   37.19   26.11   64.63    0.37\n",
            " 21    3600        2822.58  20875.25   35.13   24.87   59.76    0.35\n",
            " 22    3800        2453.86  19539.70   40.14   27.83   71.95    0.40\n",
            " 24    4000        2289.93  19210.55   37.89   26.60   65.85    0.38\n",
            " 25    4200        2539.83  19656.83   37.59   26.50   64.63    0.38\n",
            " 26    4400        2372.75  19823.09   42.07   29.33   74.39    0.42\n",
            " 27    4600        2279.33  19044.51   41.81   29.27   73.17    0.42\n",
            " 28    4800        2279.02  18872.25   43.45   30.29   76.83    0.43\n",
            " 30    5000        2125.75  18701.75   42.91   29.95   75.61    0.43\n",
            " 31    5200        2388.28  19693.62   43.21   30.24   75.61    0.43\n",
            " 32    5400        1880.91  18348.17   43.36   30.39   75.61    0.43\n",
            " 33    5600        2231.23  19368.15   44.44   31.07   78.05    0.44\n",
            " 35    5800        1981.70  18426.45   44.83   31.25   79.27    0.45\n",
            " 36    6000        1915.30  18642.13   44.44   31.07   78.05    0.44\n",
            " 37    6200        2064.29  19018.57   44.98   31.40   79.27    0.45\n",
            " 38    6400        1709.69  17653.87   45.14   31.55   79.27    0.45\n",
            " 39    6600        1881.52  18729.50   45.14   31.55   79.27    0.45\n",
            " 41    6800        2009.63  18277.12   45.67   31.88   80.49    0.46\n",
            " 42    7000        1802.91  18359.82   45.14   31.55   79.27    0.45\n",
            " 43    7200        1838.49  18328.71   45.14   31.55   79.27    0.45\n",
            " 44    7400        1629.21  17972.18   45.67   31.88   80.49    0.46\n",
            " 45    7600        1808.08  18603.24   45.67   31.88   80.49    0.46\n",
            " 47    7800        1558.53  17076.57   45.67   31.88   80.49    0.46\n",
            " 48    8000        1671.83  18578.40   45.14   31.55   79.27    0.45\n",
            " 49    8200        1701.22  17445.94   46.21   32.21   81.71    0.46\n",
            " 50    8400        1525.87  18215.66   45.14   31.55   79.27    0.45\n",
            " 51    8600        1615.58  17571.88   46.21   32.21   81.71    0.46\n",
            " 53    8800        1499.02  17171.46   45.67   31.88   80.49    0.46\n",
            " 54    9000        1570.56  18049.10   45.67   31.88   80.49    0.46\n",
            " 55    9200        1557.73  17930.96   45.67   31.88   80.49    0.46\n",
            " 56    9400        1470.41  17775.41   45.67   31.88   80.49    0.46\n",
            " 57    9600        1474.71  17512.70   46.05   32.06   81.71    0.46\n",
            " 59    9800        1299.62  16989.16   45.67   31.88   80.49    0.46\n",
            "\u001b[38;5;2m✔ Saved pipeline to output directory\u001b[0m\n",
            "outputSpacyDistillBert/model-last\n"
          ]
        }
      ]
    },
    {
      "cell_type": "code",
      "source": [
        "nlp = spacy.load('outputSpacyDistillBert/model-best')"
      ],
      "metadata": {
        "id": "oNcFgJ-fydR_"
      },
      "execution_count": 30,
      "outputs": []
    },
    {
      "cell_type": "code",
      "source": [
        "import pandas as pd\n",
        "df = pd.read_csv('drive/MyDrive/textInResume.csv')\n",
        "dataTest = df['text'].values.tolist()"
      ],
      "metadata": {
        "id": "Uu_aQbVhyqJ9"
      },
      "execution_count": 31,
      "outputs": []
    },
    {
      "cell_type": "code",
      "source": [
        "import re\n",
        "i=0\n",
        "\n",
        "bst_pred=[]\n",
        "for d in dataTest:\n",
        "  doc = nlp(d)\n",
        "  print(\"## doc \",i,\" ##\")\n",
        "  person = ''\n",
        "  for ent in doc.ents:\n",
        "    nameRegex = re.compile('[A-Za-z]{2,25} [A-Za-z]{2,25}')\n",
        "    if nameRegex.findall(ent.text)!=[]:\n",
        "      print(ent.text)\n",
        "      person=ent.text\n",
        "  bst_pred.append(person)\n",
        "\n",
        "    #print(ent.text,\"----\",ent.label_)\n",
        "  i = i+1\n",
        "  print(\"   \")"
      ],
      "metadata": {
        "colab": {
          "base_uri": "https://localhost:8080/"
        },
        "id": "TpQlfC4Tyrsl",
        "outputId": "56b6f162-caeb-4c08-f435-44dae191732e"
      },
      "execution_count": 70,
      "outputs": [
        {
          "output_type": "stream",
          "name": "stdout",
          "text": [
            "## doc  0  ##\n",
            "supavit attagomol\n",
            "   \n",
            "## doc  1  ##\n",
            "nisaratwisesbantao bachelor\n",
            "   \n",
            "## doc  2  ##\n",
            "thirawit jirarungroj\n",
            "   \n",
            "## doc  3  ##\n",
            "   \n",
            "## doc  4  ##\n",
            "thanchanok watcharakitphokin\n",
            "   \n",
            "## doc  5  ##\n",
            "   \n",
            "## doc  6  ##\n",
            "patcharaya anuntasinkul\n",
            "   \n",
            "## doc  7  ##\n",
            "jarrukorn pensalaphan\n",
            "   \n",
            "## doc  8  ##\n",
            "pravittra vimonworachort\n",
            "   \n",
            "## doc  9  ##\n",
            "nattacha kingbualuang\n",
            "   \n",
            "## doc  10  ##\n",
            "purawat ruangsri\n",
            "   \n",
            "## doc  11  ##\n",
            "nutratanon mahakhet\n",
            "   \n",
            "## doc  12  ##\n",
            "kitisak thossaensin\n",
            "   \n",
            "## doc  13  ##\n",
            "suebtas limsaihua\n",
            "   \n",
            "## doc  14  ##\n",
            "navara sirijarusvong\n",
            "   \n",
            "## doc  15  ##\n",
            "chayanit sripradit\n",
            "   \n",
            "## doc  16  ##\n",
            "pimnares puto\n",
            "   \n",
            "## doc  17  ##\n",
            "saran thitawiriyayos\n",
            "   \n",
            "## doc  18  ##\n",
            "pakpoom poodsud\n",
            "   \n",
            "## doc  19  ##\n",
            "kanittha setthapitayakul\n",
            "   \n",
            "## doc  20  ##\n",
            "   \n",
            "## doc  21  ##\n",
            "pawith panyasirikul\n",
            "   \n",
            "## doc  22  ##\n",
            "chotitouch supalanunt\n",
            "   \n",
            "## doc  23  ##\n",
            "aussadach masun\n",
            "   \n",
            "## doc  24  ##\n",
            "teeratach jearapaganon\n",
            "   \n",
            "## doc  25  ##\n",
            "pratan srikamonpattanawut\n",
            "   \n",
            "## doc  26  ##\n",
            "natthapat phusrisom\n",
            "   \n",
            "## doc  27  ##\n",
            "chayanon juntarapartsavorn\n",
            "   \n",
            "## doc  28  ##\n",
            "narurong saeheng\n",
            "   \n",
            "## doc  29  ##\n",
            "supachai sumeteenarumit\n",
            "   \n",
            "## doc  30  ##\n",
            "ittichote sornmeethong\n",
            "   \n",
            "## doc  31  ##\n",
            "kamolchai suebnipon\n",
            "   \n",
            "## doc  32  ##\n",
            "   \n",
            "## doc  33  ##\n",
            "nattachai noogure\n",
            "   \n",
            "## doc  34  ##\n",
            "saksorn pawasakarin\n",
            "   \n",
            "## doc  35  ##\n",
            "navapuvadol uraikul\n",
            "   \n",
            "## doc  36  ##\n",
            "harit piyapornthana\n",
            "   \n",
            "## doc  37  ##\n",
            "setthawuth kangwansakol\n",
            "   \n",
            "## doc  38  ##\n",
            "   \n",
            "## doc  39  ##\n",
            "veerachaimitmorn creativity\n",
            "   \n",
            "## doc  40  ##\n",
            "phanchita korsanankittipat\n",
            "   \n",
            "## doc  41  ##\n",
            "suphakit sangthong\n",
            "   \n",
            "## doc  42  ##\n",
            "   \n",
            "## doc  43  ##\n",
            "jitawat chanpraneet\n",
            "   \n",
            "## doc  44  ##\n",
            "   \n",
            "## doc  45  ##\n",
            "suwan panjanapongchai\n",
            "   \n",
            "## doc  46  ##\n",
            "saksorn pawasakarin\n",
            "   \n",
            "## doc  47  ##\n",
            "kamolwan penpetch\n",
            "   \n",
            "## doc  48  ##\n",
            "autsadang somboonphol\n",
            "   \n",
            "## doc  49  ##\n",
            "chanon sattrupinat\n",
            "   \n",
            "## doc  50  ##\n",
            "   \n",
            "## doc  51  ##\n",
            "   \n",
            "## doc  52  ##\n",
            "phaimathayom rachadabhisek\n",
            "   \n",
            "## doc  53  ##\n",
            "suchit rojanapatanasombat\n",
            "   \n",
            "## doc  54  ##\n",
            "   \n",
            "## doc  55  ##\n",
            "tharathep chuayrod\n",
            "   \n",
            "## doc  56  ##\n",
            "nonthawat aphiwong\n",
            "   \n",
            "## doc  57  ##\n",
            "tititab srisookco\n",
            "   \n",
            "## doc  58  ##\n",
            "nuttamol janmanee\n",
            "   \n",
            "## doc  59  ##\n",
            "apinop soisuwan\n",
            "   \n",
            "## doc  60  ##\n",
            "kritdanai peerapolchaikul\n",
            "   \n",
            "## doc  61  ##\n",
            "kittiphong chankong\n",
            "   \n",
            "## doc  62  ##\n",
            "pakavich veeranarapanich\n",
            "   \n",
            "## doc  63  ##\n",
            "   \n",
            "## doc  64  ##\n",
            "pisarnwate jitvimol\n",
            "   \n",
            "## doc  65  ##\n",
            "   \n",
            "## doc  66  ##\n",
            "peerawish tawantarong\n",
            "   \n",
            "## doc  67  ##\n",
            "   \n",
            "## doc  68  ##\n",
            "komson packdeearporn\n",
            "   \n",
            "## doc  69  ##\n",
            "ektanat pupat\n",
            "   \n",
            "## doc  70  ##\n",
            "thapaneesuklapkit logisticsengineer\n",
            "   \n",
            "## doc  71  ##\n",
            "   \n",
            "## doc  72  ##\n",
            "haruthai jankrajung\n",
            "   \n",
            "## doc  73  ##\n",
            "apiwut kittiparikun\n",
            "   \n",
            "## doc  74  ##\n",
            "   \n",
            "## doc  75  ##\n",
            "arthit thetkham\n",
            "   \n",
            "## doc  76  ##\n",
            "yonlada nedluecha\n",
            "   \n",
            "## doc  77  ##\n",
            "   \n",
            "## doc  78  ##\n",
            "tussanakorn rattanaburee\n",
            "   \n",
            "## doc  79  ##\n",
            "natakit lalitputtichoke\n",
            "   \n",
            "## doc  80  ##\n",
            "thummarat paklao\n",
            "   \n",
            "## doc  81  ##\n",
            "patipan mata\n",
            "   \n",
            "## doc  82  ##\n",
            "tanakrid chanburi\n",
            "   \n",
            "## doc  83  ##\n",
            "sarakrit thahanthai\n",
            "   \n",
            "## doc  84  ##\n",
            "naruedom kiatikoon\n",
            "   \n",
            "## doc  85  ##\n",
            "pattarapon buathong\n",
            "   \n",
            "## doc  86  ##\n",
            "wittawat hormhuan\n",
            "   \n"
          ]
        }
      ]
    },
    {
      "cell_type": "code",
      "source": [
        "lstTrue"
      ],
      "metadata": {
        "colab": {
          "base_uri": "https://localhost:8080/"
        },
        "id": "KuS21QkwNnU4",
        "outputId": "e78c771e-746a-401f-d152-be287f7b101e"
      },
      "execution_count": 75,
      "outputs": [
        {
          "output_type": "execute_result",
          "data": {
            "text/plain": [
              "['Supavit Attagomol',\n",
              " 'Nisarat Wisesbantao',\n",
              " 'worakron jirarungroj',\n",
              " 'Worawut Neammai',\n",
              " 'Thanchanok Watcharakitphokin',\n",
              " 'Natanop Pimonsathian',\n",
              " 'patcharaya anuntasinkul',\n",
              " 'jarrukorn pensalaphan',\n",
              " 'pravittra vimonworachort',\n",
              " 'Nattacha Kingbualuang',\n",
              " 'purawat ruangsri',\n",
              " 'nutratanon mahakhet',\n",
              " 'kitisak thossaensin',\n",
              " 'suebtas limsaihua',\n",
              " 'navara sirijarusvong',\n",
              " 'Chayanit Sripradit',\n",
              " 'pimnares puto',\n",
              " 'saran thitawiriyayos',\n",
              " 'pakpoom poodsud',\n",
              " 'kanittha setthapitayakul',\n",
              " 'parweenuch duangdenphatsawron',\n",
              " 'pawith panyasirikul',\n",
              " 'chotitouch supalanunt',\n",
              " 'aussadach masun',\n",
              " 'teeratach jearapaganon',\n",
              " 'pratan srikamonpattanawut',\n",
              " 'Natthapat Phusrisom',\n",
              " 'chayanon juntarapartsavorn',\n",
              " 'narurong saeheng',\n",
              " 'supachai sumeteenarumit',\n",
              " 'ittichote sornmeethong',\n",
              " 'kamolchai suebnipon',\n",
              " 'surasak intasorn',\n",
              " 'nattachai noogure',\n",
              " 'Saksorn Pawasakarin',\n",
              " 'navapuvadol uraikul',\n",
              " 'Harit Piyapornthana',\n",
              " 'setthawuth kangwansakol',\n",
              " 'ratchanok angkhahad',\n",
              " 'veerachaimitmorn',\n",
              " 'Phanchita Korsanankittipat',\n",
              " 'suphakit sangthong',\n",
              " 'porameht\\xa0 khumsombat',\n",
              " 'jitawat chanpraneet',\n",
              " 'anwar rajawana',\n",
              " 'suwan panjanapongchai',\n",
              " 'saksorn pawasakarin',\n",
              " 'kamolwan penpetch',\n",
              " 'autsadang somboonphol',\n",
              " 'chanon sattrupinat',\n",
              " 'thienravit hengcharoenphokhinkul',\n",
              " 'krittapad harnchang',\n",
              " 'put phapon',\n",
              " 'suchit rojanapatanasombat',\n",
              " 'nattawoot denduangchai',\n",
              " 'tharathep chuayrod',\n",
              " 'nonthawat aphiwong',\n",
              " 'tititab srisookco',\n",
              " 'nuttamol janmanee',\n",
              " 'apinop soisuwan',\n",
              " 'kritdanai peerapolchaikul',\n",
              " 'kittiphong chankong',\n",
              " 'pakavich veeranarapanich',\n",
              " 'tongkorn pawananan',\n",
              " 'pisarnwate jitvimol',\n",
              " 'naphattharachon\\xa0 pilikamin',\n",
              " 'peerawish tawantarong',\n",
              " 'thanaphon wichuladawut',\n",
              " 'komson packdeearporn',\n",
              " 'ektanat pupat',\n",
              " 'thapaneesuklapkit',\n",
              " 'pummarast amornmaneekul',\n",
              " 'haruthai jankrajung',\n",
              " 'apiwut kittiparikun',\n",
              " 'trichet surichai',\n",
              " 'arthit thetkham',\n",
              " 'yonlada nedluecha',\n",
              " 'ridtiporn kambunrueng',\n",
              " 'tussanakorn rattanaburee',\n",
              " 'natakit lalitputtichoke',\n",
              " 'thummarat paklao',\n",
              " 'patipan mata',\n",
              " 'tanakrid chanburi',\n",
              " 'sarakrit thahanthai',\n",
              " 'naruedom kiatikoon',\n",
              " 'pattarapon buathong',\n",
              " 'wittawat hormhuan']"
            ]
          },
          "metadata": {},
          "execution_count": 75
        }
      ]
    },
    {
      "cell_type": "code",
      "source": [
        "bst_pred"
      ],
      "metadata": {
        "colab": {
          "base_uri": "https://localhost:8080/"
        },
        "id": "xJkDV0HtKFfZ",
        "outputId": "5b6b4e07-5e77-497b-d8a8-7d52eda3a17e"
      },
      "execution_count": 71,
      "outputs": [
        {
          "output_type": "execute_result",
          "data": {
            "text/plain": [
              "['supavit attagomol',\n",
              " 'nisaratwisesbantao bachelor',\n",
              " 'thirawit jirarungroj',\n",
              " '',\n",
              " 'thanchanok watcharakitphokin',\n",
              " '',\n",
              " 'patcharaya anuntasinkul',\n",
              " 'jarrukorn pensalaphan',\n",
              " 'pravittra vimonworachort',\n",
              " 'nattacha kingbualuang',\n",
              " 'purawat ruangsri',\n",
              " 'nutratanon mahakhet',\n",
              " 'kitisak thossaensin',\n",
              " 'suebtas limsaihua',\n",
              " 'navara sirijarusvong',\n",
              " 'chayanit sripradit',\n",
              " 'pimnares puto',\n",
              " 'saran thitawiriyayos',\n",
              " 'pakpoom poodsud',\n",
              " 'kanittha setthapitayakul',\n",
              " '',\n",
              " 'pawith panyasirikul',\n",
              " 'chotitouch supalanunt',\n",
              " 'aussadach masun',\n",
              " 'teeratach jearapaganon',\n",
              " 'pratan srikamonpattanawut',\n",
              " 'natthapat phusrisom',\n",
              " 'chayanon juntarapartsavorn',\n",
              " 'narurong saeheng',\n",
              " 'supachai sumeteenarumit',\n",
              " 'ittichote sornmeethong',\n",
              " 'kamolchai suebnipon',\n",
              " '',\n",
              " 'nattachai noogure',\n",
              " 'saksorn pawasakarin',\n",
              " 'navapuvadol uraikul',\n",
              " 'harit piyapornthana',\n",
              " 'setthawuth kangwansakol',\n",
              " '',\n",
              " 'veerachaimitmorn creativity',\n",
              " 'phanchita korsanankittipat',\n",
              " 'suphakit sangthong',\n",
              " '',\n",
              " 'jitawat chanpraneet',\n",
              " '',\n",
              " 'suwan panjanapongchai',\n",
              " 'saksorn pawasakarin',\n",
              " 'kamolwan penpetch',\n",
              " 'autsadang somboonphol',\n",
              " 'chanon sattrupinat',\n",
              " '',\n",
              " '',\n",
              " 'phaimathayom rachadabhisek',\n",
              " 'suchit rojanapatanasombat',\n",
              " '',\n",
              " 'tharathep chuayrod',\n",
              " 'nonthawat aphiwong',\n",
              " 'tititab srisookco',\n",
              " 'nuttamol janmanee',\n",
              " 'apinop soisuwan',\n",
              " 'kritdanai peerapolchaikul',\n",
              " 'kittiphong chankong',\n",
              " 'pakavich veeranarapanich',\n",
              " '',\n",
              " 'pisarnwate jitvimol',\n",
              " '',\n",
              " 'peerawish tawantarong',\n",
              " '',\n",
              " 'komson packdeearporn',\n",
              " 'ektanat pupat',\n",
              " 'thapaneesuklapkit logisticsengineer',\n",
              " '',\n",
              " 'haruthai jankrajung',\n",
              " 'apiwut kittiparikun',\n",
              " '',\n",
              " 'arthit thetkham',\n",
              " 'yonlada nedluecha',\n",
              " '',\n",
              " 'tussanakorn rattanaburee',\n",
              " 'natakit lalitputtichoke',\n",
              " 'thummarat paklao',\n",
              " 'patipan mata',\n",
              " 'tanakrid chanburi',\n",
              " 'sarakrit thahanthai',\n",
              " 'naruedom kiatikoon',\n",
              " 'pattarapon buathong',\n",
              " 'wittawat hormhuan']"
            ]
          },
          "metadata": {},
          "execution_count": 71
        }
      ]
    },
    {
      "cell_type": "code",
      "source": [
        "lst_pred"
      ],
      "metadata": {
        "colab": {
          "base_uri": "https://localhost:8080/"
        },
        "id": "NT1yyt4MKoTw",
        "outputId": "cf674646-0b3f-4d38-e7e1-d6bea98f151f"
      },
      "execution_count": 73,
      "outputs": [
        {
          "output_type": "execute_result",
          "data": {
            "text/plain": [
              "['supavit attagomol',\n",
              " 'nisaratwisesbantao bachelor',\n",
              " 'thirawit jirarungroj',\n",
              " '',\n",
              " 'thanchanok watcharakitphokin',\n",
              " '',\n",
              " 'patcharaya anuntasinkul',\n",
              " 'jarrukorn pensalaphan',\n",
              " 'pravittra vimonworachort',\n",
              " 'nattacha kingbualuang',\n",
              " 'purawat ruangsri',\n",
              " 'nutratanon mahakhet',\n",
              " 'kitisak thossaensin',\n",
              " 'suebtas limsaihua',\n",
              " 'navara sirijarusvong',\n",
              " 'chayanit sripradit',\n",
              " 'pimnares puto',\n",
              " 'saran thitawiriyayos',\n",
              " 'pakpoom poodsud',\n",
              " 'kanittha setthapitayakul',\n",
              " '',\n",
              " 'pawith panyasirikul',\n",
              " 'chotitouch supalanunt',\n",
              " 'aussadach masun',\n",
              " 'teeratach jearapaganon',\n",
              " 'pratan srikamonpattanawut',\n",
              " 'natthapat phusrisom',\n",
              " 'chayanon juntarapartsavorn',\n",
              " 'narurong saeheng',\n",
              " '',\n",
              " 'ittichote sornmeethong',\n",
              " 'kamolchai suebnipon',\n",
              " '',\n",
              " 'nattachai noogure',\n",
              " 'saksorn pawasakarin',\n",
              " 'navapuvadol uraikul',\n",
              " 'harit piyapornthana',\n",
              " 'setthawuth kangwansakol',\n",
              " '',\n",
              " 'veerachaimitmorn creativity',\n",
              " 'phanchita korsanankittipat',\n",
              " 'suphakit sangthong',\n",
              " '',\n",
              " 'jitawat chanpraneet',\n",
              " '',\n",
              " 'suwan panjanapongchai',\n",
              " 'saksorn pawasakarin',\n",
              " 'kamolwan penpetch',\n",
              " 'autsadang somboonphol',\n",
              " 'chanon sattrupinat',\n",
              " '',\n",
              " '',\n",
              " 'phaimathayom rachadabhisek',\n",
              " 'suchit rojanapatanasombat',\n",
              " '',\n",
              " 'tharathep chuayrod',\n",
              " 'nonthawat aphiwong',\n",
              " 'tititab srisookco',\n",
              " 'nuttamol janmanee',\n",
              " 'apinop soisuwan',\n",
              " 'kritdanai peerapolchaikul',\n",
              " 'kittiphong chankong',\n",
              " 'pakavich veeranarapanich',\n",
              " '',\n",
              " 'pisarnwate jitvimol',\n",
              " '',\n",
              " 'peerawish tawantarong',\n",
              " '',\n",
              " 'komson packdeearporn',\n",
              " 'ektanat pupat',\n",
              " 'thapaneesuklapkit logisticsengineer',\n",
              " '',\n",
              " 'haruthai jankrajung',\n",
              " 'apiwut kittiparikun',\n",
              " '',\n",
              " 'arthit thetkham',\n",
              " 'yonlada nedluecha',\n",
              " '',\n",
              " 'tussanakorn rattanaburee',\n",
              " 'natakit lalitputtichoke',\n",
              " 'thummarat paklao',\n",
              " 'patipan mata',\n",
              " 'tanakrid chanburi',\n",
              " 'sarakrit thahanthai',\n",
              " 'naruedom kiatikoon',\n",
              " 'pattarapon buathong',\n",
              " 'wittawat hormhuan']"
            ]
          },
          "metadata": {},
          "execution_count": 73
        }
      ]
    },
    {
      "cell_type": "code",
      "source": [
        "nlpLst = spacy.load('outputSpacyDistillBert/model-last')"
      ],
      "metadata": {
        "id": "061-nsFyIewo"
      },
      "execution_count": 68,
      "outputs": []
    },
    {
      "cell_type": "code",
      "source": [
        "import re\n",
        "i=0\n",
        "lst_pred=[]\n",
        "for d in dataTest:\n",
        "  doc = nlpLst(d)\n",
        "  print(\"## doc \",i,\" ##\")\n",
        "  person = ''\n",
        "  for ent in doc.ents:\n",
        "    nameRegex = re.compile('[A-Za-z]{2,25} [A-Za-z]{2,25}')\n",
        "    if nameRegex.findall(ent.text)!=[]:\n",
        "      print(ent.text)\n",
        "      person=ent.text\n",
        "  lst_pred.append(person)\n",
        "\n",
        "    #print(ent.text,\"----\",ent.label_)\n",
        "  i = i+1\n",
        "  print(\"   \")"
      ],
      "metadata": {
        "colab": {
          "base_uri": "https://localhost:8080/"
        },
        "id": "58xPURfgImsY",
        "outputId": "240094d2-79e4-45f6-bf11-e69f83c4884e"
      },
      "execution_count": 72,
      "outputs": [
        {
          "output_type": "stream",
          "name": "stdout",
          "text": [
            "## doc  0  ##\n",
            "supavit attagomol\n",
            "   \n",
            "## doc  1  ##\n",
            "nisaratwisesbantao bachelor\n",
            "   \n",
            "## doc  2  ##\n",
            "thirawit jirarungroj\n",
            "   \n",
            "## doc  3  ##\n",
            "   \n",
            "## doc  4  ##\n",
            "thanchanok watcharakitphokin\n",
            "   \n",
            "## doc  5  ##\n",
            "   \n",
            "## doc  6  ##\n",
            "patcharaya anuntasinkul\n",
            "   \n",
            "## doc  7  ##\n",
            "jarrukorn pensalaphan\n",
            "   \n",
            "## doc  8  ##\n",
            "pravittra vimonworachort\n",
            "   \n",
            "## doc  9  ##\n",
            "nattacha kingbualuang\n",
            "   \n",
            "## doc  10  ##\n",
            "purawat ruangsri\n",
            "   \n",
            "## doc  11  ##\n",
            "nutratanon mahakhet\n",
            "   \n",
            "## doc  12  ##\n",
            "kitisak thossaensin\n",
            "   \n",
            "## doc  13  ##\n",
            "suebtas limsaihua\n",
            "   \n",
            "## doc  14  ##\n",
            "navara sirijarusvong\n",
            "   \n",
            "## doc  15  ##\n",
            "chayanit sripradit\n",
            "   \n",
            "## doc  16  ##\n",
            "pimnares puto\n",
            "   \n",
            "## doc  17  ##\n",
            "saran thitawiriyayos\n",
            "   \n",
            "## doc  18  ##\n",
            "pakpoom poodsud\n",
            "   \n",
            "## doc  19  ##\n",
            "kanittha setthapitayakul\n",
            "   \n",
            "## doc  20  ##\n",
            "   \n",
            "## doc  21  ##\n",
            "pawith panyasirikul\n",
            "   \n",
            "## doc  22  ##\n",
            "chotitouch supalanunt\n",
            "   \n",
            "## doc  23  ##\n",
            "aussadach masun\n",
            "   \n",
            "## doc  24  ##\n",
            "teeratach jearapaganon\n",
            "   \n",
            "## doc  25  ##\n",
            "pratan srikamonpattanawut\n",
            "   \n",
            "## doc  26  ##\n",
            "natthapat phusrisom\n",
            "   \n",
            "## doc  27  ##\n",
            "chayanon juntarapartsavorn\n",
            "   \n",
            "## doc  28  ##\n",
            "narurong saeheng\n",
            "   \n",
            "## doc  29  ##\n",
            "   \n",
            "## doc  30  ##\n",
            "ittichote sornmeethong\n",
            "   \n",
            "## doc  31  ##\n",
            "kamolchai suebnipon\n",
            "   \n",
            "## doc  32  ##\n",
            "   \n",
            "## doc  33  ##\n",
            "nattachai noogure\n",
            "   \n",
            "## doc  34  ##\n",
            "saksorn pawasakarin\n",
            "   \n",
            "## doc  35  ##\n",
            "navapuvadol uraikul\n",
            "   \n",
            "## doc  36  ##\n",
            "harit piyapornthana\n",
            "   \n",
            "## doc  37  ##\n",
            "setthawuth kangwansakol\n",
            "   \n",
            "## doc  38  ##\n",
            "   \n",
            "## doc  39  ##\n",
            "veerachaimitmorn creativity\n",
            "   \n",
            "## doc  40  ##\n",
            "phanchita korsanankittipat\n",
            "   \n",
            "## doc  41  ##\n",
            "suphakit sangthong\n",
            "   \n",
            "## doc  42  ##\n",
            "   \n",
            "## doc  43  ##\n",
            "jitawat chanpraneet\n",
            "   \n",
            "## doc  44  ##\n",
            "   \n",
            "## doc  45  ##\n",
            "suwan panjanapongchai\n",
            "   \n",
            "## doc  46  ##\n",
            "saksorn pawasakarin\n",
            "   \n",
            "## doc  47  ##\n",
            "kamolwan penpetch\n",
            "   \n",
            "## doc  48  ##\n",
            "autsadang somboonphol\n",
            "   \n",
            "## doc  49  ##\n",
            "chanon sattrupinat\n",
            "   \n",
            "## doc  50  ##\n",
            "   \n",
            "## doc  51  ##\n",
            "   \n",
            "## doc  52  ##\n",
            "phaimathayom rachadabhisek\n",
            "   \n",
            "## doc  53  ##\n",
            "suchit rojanapatanasombat\n",
            "   \n",
            "## doc  54  ##\n",
            "   \n",
            "## doc  55  ##\n",
            "tharathep chuayrod\n",
            "   \n",
            "## doc  56  ##\n",
            "nonthawat aphiwong\n",
            "   \n",
            "## doc  57  ##\n",
            "tititab srisookco\n",
            "   \n",
            "## doc  58  ##\n",
            "nuttamol janmanee\n",
            "   \n",
            "## doc  59  ##\n",
            "apinop soisuwan\n",
            "   \n",
            "## doc  60  ##\n",
            "kritdanai peerapolchaikul\n",
            "   \n",
            "## doc  61  ##\n",
            "kittiphong chankong\n",
            "   \n",
            "## doc  62  ##\n",
            "pakavich veeranarapanich\n",
            "   \n",
            "## doc  63  ##\n",
            "   \n",
            "## doc  64  ##\n",
            "pisarnwate jitvimol\n",
            "   \n",
            "## doc  65  ##\n",
            "   \n",
            "## doc  66  ##\n",
            "peerawish tawantarong\n",
            "   \n",
            "## doc  67  ##\n",
            "   \n",
            "## doc  68  ##\n",
            "komson packdeearporn\n",
            "   \n",
            "## doc  69  ##\n",
            "ektanat pupat\n",
            "   \n",
            "## doc  70  ##\n",
            "thapaneesuklapkit logisticsengineer\n",
            "   \n",
            "## doc  71  ##\n",
            "   \n",
            "## doc  72  ##\n",
            "haruthai jankrajung\n",
            "   \n",
            "## doc  73  ##\n",
            "apiwut kittiparikun\n",
            "   \n",
            "## doc  74  ##\n",
            "   \n",
            "## doc  75  ##\n",
            "arthit thetkham\n",
            "   \n",
            "## doc  76  ##\n",
            "yonlada nedluecha\n",
            "   \n",
            "## doc  77  ##\n",
            "   \n",
            "## doc  78  ##\n",
            "tussanakorn rattanaburee\n",
            "   \n",
            "## doc  79  ##\n",
            "natakit lalitputtichoke\n",
            "   \n",
            "## doc  80  ##\n",
            "thummarat paklao\n",
            "   \n",
            "## doc  81  ##\n",
            "patipan mata\n",
            "   \n",
            "## doc  82  ##\n",
            "tanakrid chanburi\n",
            "   \n",
            "## doc  83  ##\n",
            "sarakrit thahanthai\n",
            "   \n",
            "## doc  84  ##\n",
            "naruedom kiatikoon\n",
            "   \n",
            "## doc  85  ##\n",
            "pattarapon buathong\n",
            "   \n",
            "## doc  86  ##\n",
            "wittawat hormhuan\n",
            "   \n"
          ]
        }
      ]
    },
    {
      "cell_type": "code",
      "source": [
        "import pandas as pd\n",
        "dfName = pd.read_csv('drive/MyDrive/resumeData.csv')\n",
        "lstTrue = dfName['PERSON'].values.tolist()"
      ],
      "metadata": {
        "id": "MjhiaRtINjA5"
      },
      "execution_count": 74,
      "outputs": []
    },
    {
      "cell_type": "markdown",
      "source": [
        "#Metrix of model best"
      ],
      "metadata": {
        "id": "PaxN63igODTF"
      }
    },
    {
      "cell_type": "code",
      "source": [
        "import numpy as np\n",
        "from sklearn.metrics import precision_recall_fscore_support\n"
      ],
      "metadata": {
        "id": "yaeyMe9PNtON"
      },
      "execution_count": 81,
      "outputs": []
    },
    {
      "cell_type": "code",
      "source": [
        "y_true = np.array(lstTrue)\n",
        "y_pred = np.array(bst_pred)"
      ],
      "metadata": {
        "id": "ib6Pl_-iPUIb"
      },
      "execution_count": 92,
      "outputs": []
    },
    {
      "cell_type": "code",
      "source": [
        "precision_recall_fscore_support(y_true, y_pred, average='weighted')"
      ],
      "metadata": {
        "colab": {
          "base_uri": "https://localhost:8080/"
        },
        "id": "eOdIVAAjTKzd",
        "outputId": "5aa9c1f3-f9f4-4d20-a97d-9950832a422e"
      },
      "execution_count": 93,
      "outputs": [
        {
          "output_type": "stream",
          "name": "stderr",
          "text": [
            "/usr/local/lib/python3.8/dist-packages/sklearn/metrics/_classification.py:1344: UndefinedMetricWarning: Precision and F-score are ill-defined and being set to 0.0 in labels with no predicted samples. Use `zero_division` parameter to control this behavior.\n",
            "  _warn_prf(average, modifier, msg_start, len(result))\n",
            "/usr/local/lib/python3.8/dist-packages/sklearn/metrics/_classification.py:1344: UndefinedMetricWarning: Recall and F-score are ill-defined and being set to 0.0 in labels with no true samples. Use `zero_division` parameter to control this behavior.\n",
            "  _warn_prf(average, modifier, msg_start, len(result))\n"
          ]
        },
        {
          "output_type": "execute_result",
          "data": {
            "text/plain": [
              "(0.6609195402298851, 0.6666666666666666, 0.6628352490421456, None)"
            ]
          },
          "metadata": {},
          "execution_count": 93
        }
      ]
    },
    {
      "cell_type": "code",
      "source": [
        "precision_recall_fscore_support(y_true, y_pred, average='macro')"
      ],
      "metadata": {
        "colab": {
          "base_uri": "https://localhost:8080/"
        },
        "id": "scwLByNJSYxJ",
        "outputId": "7e22ff87-0804-4882-b4d9-777c70bce6af"
      },
      "execution_count": 86,
      "outputs": [
        {
          "output_type": "stream",
          "name": "stderr",
          "text": [
            "/usr/local/lib/python3.8/dist-packages/sklearn/metrics/_classification.py:1344: UndefinedMetricWarning: Precision and F-score are ill-defined and being set to 0.0 in labels with no predicted samples. Use `zero_division` parameter to control this behavior.\n",
            "  _warn_prf(average, modifier, msg_start, len(result))\n",
            "/usr/local/lib/python3.8/dist-packages/sklearn/metrics/_classification.py:1344: UndefinedMetricWarning: Recall and F-score are ill-defined and being set to 0.0 in labels with no true samples. Use `zero_division` parameter to control this behavior.\n",
            "  _warn_prf(average, modifier, msg_start, len(result))\n"
          ]
        },
        {
          "output_type": "execute_result",
          "data": {
            "text/plain": [
              "(0.575, 0.58, 0.5766666666666667, None)"
            ]
          },
          "metadata": {},
          "execution_count": 86
        }
      ]
    },
    {
      "cell_type": "code",
      "source": [
        "precision_recall_fscore_support(y_true, y_pred, average='micro')"
      ],
      "metadata": {
        "colab": {
          "base_uri": "https://localhost:8080/"
        },
        "id": "A_jscx3NSdDZ",
        "outputId": "d23012e5-fb42-4e7a-94c7-31f25fb1a098"
      },
      "execution_count": 87,
      "outputs": [
        {
          "output_type": "execute_result",
          "data": {
            "text/plain": [
              "(0.6666666666666666, 0.6666666666666666, 0.6666666666666666, None)"
            ]
          },
          "metadata": {},
          "execution_count": 87
        }
      ]
    },
    {
      "cell_type": "code",
      "source": [
        "precision_recall_fscore_support(y_true, y_pred, average=None)"
      ],
      "metadata": {
        "colab": {
          "base_uri": "https://localhost:8080/"
        },
        "id": "yvXfmv8KSgHP",
        "outputId": "5a4c1d19-f3bf-4fe4-e1a7-b38bee8a82f4"
      },
      "execution_count": 90,
      "outputs": [
        {
          "output_type": "stream",
          "name": "stderr",
          "text": [
            "/usr/local/lib/python3.8/dist-packages/sklearn/metrics/_classification.py:1344: UndefinedMetricWarning: Precision and F-score are ill-defined and being set to 0.0 in labels with no predicted samples. Use `zero_division` parameter to control this behavior.\n",
            "  _warn_prf(average, modifier, msg_start, len(result))\n",
            "/usr/local/lib/python3.8/dist-packages/sklearn/metrics/_classification.py:1344: UndefinedMetricWarning: Recall and F-score are ill-defined and being set to 0.0 in labels with no true samples. Use `zero_division` parameter to control this behavior.\n",
            "  _warn_prf(average, modifier, msg_start, len(result))\n"
          ]
        },
        {
          "output_type": "execute_result",
          "data": {
            "text/plain": [
              "(array([0. , 0. , 0. , 0. , 0. , 0. , 0. , 0. , 0. , 0. , 0. , 0. , 0. ,\n",
              "        1. , 1. , 1. , 1. , 1. , 1. , 0. , 1. , 1. , 1. , 0. , 1. , 1. ,\n",
              "        1. , 1. , 1. , 1. , 1. , 1. , 1. , 1. , 1. , 0. , 0. , 1. , 1. ,\n",
              "        1. , 0. , 1. , 0. , 0. , 1. , 1. , 0. , 1. , 1. , 1. , 1. , 1. ,\n",
              "        0. , 1. , 1. , 1. , 1. , 1. , 0. , 0. , 1. , 1. , 0. , 1. , 1. ,\n",
              "        0. , 1. , 0. , 0. , 0. , 0.5, 1. , 1. , 1. , 1. , 1. , 1. , 0. ,\n",
              "        1. , 0. , 1. , 1. , 1. , 0. , 0. , 0. , 0. , 1. , 0. , 0. , 1. ,\n",
              "        1. , 0. , 0. , 1. , 0. , 0. , 1. , 0. , 1. ]),\n",
              " array([0., 0., 0., 0., 0., 0., 0., 0., 0., 0., 0., 0., 0., 1., 1., 1., 1.,\n",
              "        1., 1., 0., 1., 1., 1., 0., 1., 1., 1., 1., 1., 1., 1., 1., 1., 1.,\n",
              "        1., 0., 0., 1., 1., 1., 0., 1., 0., 0., 1., 1., 0., 1., 1., 1., 1.,\n",
              "        1., 0., 1., 1., 1., 1., 1., 0., 0., 1., 1., 0., 1., 1., 0., 1., 0.,\n",
              "        0., 0., 1., 1., 1., 1., 1., 1., 1., 0., 1., 0., 1., 1., 1., 0., 0.,\n",
              "        0., 0., 1., 0., 0., 1., 1., 0., 0., 1., 0., 0., 1., 0., 1.]),\n",
              " array([0.        , 0.        , 0.        , 0.        , 0.        ,\n",
              "        0.        , 0.        , 0.        , 0.        , 0.        ,\n",
              "        0.        , 0.        , 0.        , 1.        , 1.        ,\n",
              "        1.        , 1.        , 1.        , 1.        , 0.        ,\n",
              "        1.        , 1.        , 1.        , 0.        , 1.        ,\n",
              "        1.        , 1.        , 1.        , 1.        , 1.        ,\n",
              "        1.        , 1.        , 1.        , 1.        , 1.        ,\n",
              "        0.        , 0.        , 1.        , 1.        , 1.        ,\n",
              "        0.        , 1.        , 0.        , 0.        , 1.        ,\n",
              "        1.        , 0.        , 1.        , 1.        , 1.        ,\n",
              "        1.        , 1.        , 0.        , 1.        , 1.        ,\n",
              "        1.        , 1.        , 1.        , 0.        , 0.        ,\n",
              "        1.        , 1.        , 0.        , 1.        , 1.        ,\n",
              "        0.        , 1.        , 0.        , 0.        , 0.        ,\n",
              "        0.66666667, 1.        , 1.        , 1.        , 1.        ,\n",
              "        1.        , 1.        , 0.        , 1.        , 0.        ,\n",
              "        1.        , 1.        , 1.        , 0.        , 0.        ,\n",
              "        0.        , 0.        , 1.        , 0.        , 0.        ,\n",
              "        1.        , 1.        , 0.        , 0.        , 1.        ,\n",
              "        0.        , 0.        , 1.        , 0.        , 1.        ]),\n",
              " array([0, 1, 1, 1, 1, 1, 1, 1, 1, 1, 1, 1, 1, 1, 1, 1, 1, 1, 1, 0, 1, 1,\n",
              "        1, 0, 1, 1, 1, 1, 1, 1, 1, 1, 1, 1, 1, 1, 1, 1, 1, 1, 0, 1, 1, 0,\n",
              "        1, 1, 0, 1, 1, 1, 1, 1, 1, 1, 1, 1, 1, 1, 0, 0, 1, 1, 1, 1, 1, 1,\n",
              "        1, 1, 1, 1, 1, 1, 1, 1, 1, 1, 1, 0, 1, 1, 1, 1, 1, 1, 0, 1, 0, 1,\n",
              "        1, 0, 1, 1, 1, 1, 1, 1, 0, 1, 1, 1]))"
            ]
          },
          "metadata": {},
          "execution_count": 90
        }
      ]
    },
    {
      "cell_type": "markdown",
      "source": [
        "#Metrix of model last"
      ],
      "metadata": {
        "id": "BS2J5i3RS3N8"
      }
    },
    {
      "cell_type": "code",
      "source": [
        "y_true = np.array(lstTrue)\n",
        "y_pred = np.array(lst_pred)"
      ],
      "metadata": {
        "id": "KxJA8SOES_RS"
      },
      "execution_count": 94,
      "outputs": []
    },
    {
      "cell_type": "code",
      "source": [
        "precision_recall_fscore_support(y_true, y_pred, average='weighted')"
      ],
      "metadata": {
        "colab": {
          "base_uri": "https://localhost:8080/"
        },
        "id": "Kxy25YuCTObF",
        "outputId": "27b0d7d6-2a1e-42b4-ec53-098fbb3fb5b1"
      },
      "execution_count": 95,
      "outputs": [
        {
          "output_type": "stream",
          "name": "stderr",
          "text": [
            "/usr/local/lib/python3.8/dist-packages/sklearn/metrics/_classification.py:1344: UndefinedMetricWarning: Precision and F-score are ill-defined and being set to 0.0 in labels with no predicted samples. Use `zero_division` parameter to control this behavior.\n",
            "  _warn_prf(average, modifier, msg_start, len(result))\n",
            "/usr/local/lib/python3.8/dist-packages/sklearn/metrics/_classification.py:1344: UndefinedMetricWarning: Recall and F-score are ill-defined and being set to 0.0 in labels with no true samples. Use `zero_division` parameter to control this behavior.\n",
            "  _warn_prf(average, modifier, msg_start, len(result))\n"
          ]
        },
        {
          "output_type": "execute_result",
          "data": {
            "text/plain": [
              "(0.6494252873563219, 0.6551724137931034, 0.6513409961685824, None)"
            ]
          },
          "metadata": {},
          "execution_count": 95
        }
      ]
    },
    {
      "cell_type": "code",
      "source": [
        "precision_recall_fscore_support(y_true, y_pred, average='macro')"
      ],
      "metadata": {
        "colab": {
          "base_uri": "https://localhost:8080/"
        },
        "id": "m6Y2QZuCTWxG",
        "outputId": "a4df45b9-a455-4925-b351-ccffb1f1c26d"
      },
      "execution_count": 96,
      "outputs": [
        {
          "output_type": "stream",
          "name": "stderr",
          "text": [
            "/usr/local/lib/python3.8/dist-packages/sklearn/metrics/_classification.py:1344: UndefinedMetricWarning: Precision and F-score are ill-defined and being set to 0.0 in labels with no predicted samples. Use `zero_division` parameter to control this behavior.\n",
            "  _warn_prf(average, modifier, msg_start, len(result))\n",
            "/usr/local/lib/python3.8/dist-packages/sklearn/metrics/_classification.py:1344: UndefinedMetricWarning: Recall and F-score are ill-defined and being set to 0.0 in labels with no true samples. Use `zero_division` parameter to control this behavior.\n",
            "  _warn_prf(average, modifier, msg_start, len(result))\n"
          ]
        },
        {
          "output_type": "execute_result",
          "data": {
            "text/plain": [
              "(0.565, 0.57, 0.5666666666666668, None)"
            ]
          },
          "metadata": {},
          "execution_count": 96
        }
      ]
    },
    {
      "cell_type": "code",
      "source": [
        "precision_recall_fscore_support(y_true, y_pred, average='micro')"
      ],
      "metadata": {
        "colab": {
          "base_uri": "https://localhost:8080/"
        },
        "id": "-f27E9NPTaY0",
        "outputId": "839b719e-4bbd-4414-b202-a1eb28fc5c74"
      },
      "execution_count": 97,
      "outputs": [
        {
          "output_type": "execute_result",
          "data": {
            "text/plain": [
              "(0.6551724137931034, 0.6551724137931034, 0.6551724137931034, None)"
            ]
          },
          "metadata": {},
          "execution_count": 97
        }
      ]
    },
    {
      "cell_type": "code",
      "source": [
        "precision_recall_fscore_support(y_true, y_pred, average=None)"
      ],
      "metadata": {
        "colab": {
          "base_uri": "https://localhost:8080/"
        },
        "id": "ZTx9kA2sTeGt",
        "outputId": "f79e5c62-2326-408e-f9d0-7a1fcafc6e31"
      },
      "execution_count": 98,
      "outputs": [
        {
          "output_type": "stream",
          "name": "stderr",
          "text": [
            "/usr/local/lib/python3.8/dist-packages/sklearn/metrics/_classification.py:1344: UndefinedMetricWarning: Precision and F-score are ill-defined and being set to 0.0 in labels with no predicted samples. Use `zero_division` parameter to control this behavior.\n",
            "  _warn_prf(average, modifier, msg_start, len(result))\n",
            "/usr/local/lib/python3.8/dist-packages/sklearn/metrics/_classification.py:1344: UndefinedMetricWarning: Recall and F-score are ill-defined and being set to 0.0 in labels with no true samples. Use `zero_division` parameter to control this behavior.\n",
            "  _warn_prf(average, modifier, msg_start, len(result))\n"
          ]
        },
        {
          "output_type": "execute_result",
          "data": {
            "text/plain": [
              "(array([0. , 0. , 0. , 0. , 0. , 0. , 0. , 0. , 0. , 0. , 0. , 0. , 0. ,\n",
              "        1. , 1. , 1. , 1. , 1. , 1. , 0. , 1. , 1. , 1. , 0. , 1. , 1. ,\n",
              "        1. , 1. , 1. , 1. , 1. , 1. , 1. , 1. , 1. , 0. , 0. , 1. , 1. ,\n",
              "        1. , 0. , 1. , 0. , 0. , 1. , 1. , 0. , 1. , 1. , 1. , 1. , 1. ,\n",
              "        0. , 1. , 1. , 1. , 1. , 1. , 0. , 0. , 1. , 1. , 0. , 1. , 1. ,\n",
              "        0. , 1. , 0. , 0. , 0. , 0.5, 1. , 1. , 1. , 1. , 1. , 0. , 0. ,\n",
              "        1. , 0. , 1. , 1. , 1. , 0. , 0. , 0. , 0. , 1. , 0. , 0. , 1. ,\n",
              "        1. , 0. , 0. , 1. , 0. , 0. , 1. , 0. , 1. ]),\n",
              " array([0., 0., 0., 0., 0., 0., 0., 0., 0., 0., 0., 0., 0., 1., 1., 1., 1.,\n",
              "        1., 1., 0., 1., 1., 1., 0., 1., 1., 1., 1., 1., 1., 1., 1., 1., 1.,\n",
              "        1., 0., 0., 1., 1., 1., 0., 1., 0., 0., 1., 1., 0., 1., 1., 1., 1.,\n",
              "        1., 0., 1., 1., 1., 1., 1., 0., 0., 1., 1., 0., 1., 1., 0., 1., 0.,\n",
              "        0., 0., 1., 1., 1., 1., 1., 1., 0., 0., 1., 0., 1., 1., 1., 0., 0.,\n",
              "        0., 0., 1., 0., 0., 1., 1., 0., 0., 1., 0., 0., 1., 0., 1.]),\n",
              " array([0.        , 0.        , 0.        , 0.        , 0.        ,\n",
              "        0.        , 0.        , 0.        , 0.        , 0.        ,\n",
              "        0.        , 0.        , 0.        , 1.        , 1.        ,\n",
              "        1.        , 1.        , 1.        , 1.        , 0.        ,\n",
              "        1.        , 1.        , 1.        , 0.        , 1.        ,\n",
              "        1.        , 1.        , 1.        , 1.        , 1.        ,\n",
              "        1.        , 1.        , 1.        , 1.        , 1.        ,\n",
              "        0.        , 0.        , 1.        , 1.        , 1.        ,\n",
              "        0.        , 1.        , 0.        , 0.        , 1.        ,\n",
              "        1.        , 0.        , 1.        , 1.        , 1.        ,\n",
              "        1.        , 1.        , 0.        , 1.        , 1.        ,\n",
              "        1.        , 1.        , 1.        , 0.        , 0.        ,\n",
              "        1.        , 1.        , 0.        , 1.        , 1.        ,\n",
              "        0.        , 1.        , 0.        , 0.        , 0.        ,\n",
              "        0.66666667, 1.        , 1.        , 1.        , 1.        ,\n",
              "        1.        , 0.        , 0.        , 1.        , 0.        ,\n",
              "        1.        , 1.        , 1.        , 0.        , 0.        ,\n",
              "        0.        , 0.        , 1.        , 0.        , 0.        ,\n",
              "        1.        , 1.        , 0.        , 0.        , 1.        ,\n",
              "        0.        , 0.        , 1.        , 0.        , 1.        ]),\n",
              " array([0, 1, 1, 1, 1, 1, 1, 1, 1, 1, 1, 1, 1, 1, 1, 1, 1, 1, 1, 0, 1, 1,\n",
              "        1, 0, 1, 1, 1, 1, 1, 1, 1, 1, 1, 1, 1, 1, 1, 1, 1, 1, 0, 1, 1, 0,\n",
              "        1, 1, 0, 1, 1, 1, 1, 1, 1, 1, 1, 1, 1, 1, 0, 0, 1, 1, 1, 1, 1, 1,\n",
              "        1, 1, 1, 1, 1, 1, 1, 1, 1, 1, 1, 0, 1, 1, 1, 1, 1, 1, 0, 1, 0, 1,\n",
              "        1, 0, 1, 1, 1, 1, 1, 1, 0, 1, 1, 1]))"
            ]
          },
          "metadata": {},
          "execution_count": 98
        }
      ]
    }
  ]
}